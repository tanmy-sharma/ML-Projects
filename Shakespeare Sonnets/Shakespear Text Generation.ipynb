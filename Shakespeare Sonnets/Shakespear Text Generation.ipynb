{
 "cells": [
  {
   "cell_type": "code",
   "execution_count": 1,
   "id": "3087f1fd-38ad-4321-a15f-1b8ce0994a68",
   "metadata": {},
   "outputs": [],
   "source": [
    "import random\n",
    "import numpy as np\n",
    "import tensorflow as tf\n",
    "from tensorflow.keras.models import Sequential\n",
    "from tensorflow.keras.layers import LSTM, Dense, Activation, Bidirectional\n",
    "from tensorflow.keras.optimizers import RMSprop"
   ]
  },
  {
   "cell_type": "markdown",
   "id": "140aba93-b6a3-4619-a756-8f1721a63f10",
   "metadata": {},
   "source": [
    "## Importing the file"
   ]
  },
  {
   "cell_type": "code",
   "execution_count": 2,
   "id": "f46d74f9-e406-4f29-a585-88a4e9a3ca04",
   "metadata": {},
   "outputs": [
    {
     "name": "stdout",
     "output_type": "stream",
     "text": [
      "Downloading data from https://storage.googleapis.com/download.tensorflow.org/data/shakespeare.txt\n",
      "1115394/1115394 [==============================] - 0s 0us/step\n"
     ]
    }
   ],
   "source": [
    "filepath = tf.keras.utils.get_file('shakespeare.txt', 'https://storage.googleapis.com/download.tensorflow.org/data/shakespeare.txt')"
   ]
  },
  {
   "cell_type": "code",
   "execution_count": 3,
   "id": "fa352c48-4674-47b3-9b4d-95698a8d0f60",
   "metadata": {},
   "outputs": [],
   "source": [
    "text = open(filepath, 'rb').read().decode(encoding = 'utf-8').lower()"
   ]
  },
  {
   "cell_type": "markdown",
   "id": "a458f447-8702-49ea-b672-f3413f3f596f",
   "metadata": {},
   "source": [
    "## Preprocessing the data"
   ]
  },
  {
   "cell_type": "code",
   "execution_count": 5,
   "id": "53388612-8ec5-4ee9-838f-f41a827e2de3",
   "metadata": {},
   "outputs": [
    {
     "data": {
      "text/plain": [
       "1115394"
      ]
     },
     "execution_count": 5,
     "metadata": {},
     "output_type": "execute_result"
    }
   ],
   "source": [
    "len(text)"
   ]
  },
  {
   "cell_type": "code",
   "execution_count": 6,
   "id": "3c299b63-6f08-484b-b7c9-d428107b0d14",
   "metadata": {},
   "outputs": [
    {
     "data": {
      "text/plain": [
       "\"first citizen:\\nbefore we proceed any further, hear me speak.\\n\\nall:\\nspeak, speak.\\n\\nfirst citizen:\\nyou are all resolved rather to die than to famish?\\n\\nall:\\nresolved. resolved.\\n\\nfirst citizen:\\nfirst, you know caius marcius is chief enemy to the people.\\n\\nall:\\nwe know't, we know't.\\n\\nfirst citizen:\\nlet us kill him, and we'll have corn at our own price.\\nis't a verdict?\\n\\nall:\\nno more talking on't; let it be done: away, away!\\n\\nsecond citizen:\\none word, good citizens.\\n\\nfirst citizen:\\nwe are accounted poor citizens, the patricians good.\\nwhat authority surfeits on would relieve us: if they\\nwould yield us but the superfluity, while it were\\nwholesome, we might guess they relieved us humanely;\\nbut they think we are too dear: the leanness that\\nafflicts us, the object of our misery, is as an\\ninventory to particularise their abundance; our\\nsufferance is a gain to them let us revenge this with\\nour pikes, ere we become rakes: for the gods know i\\nspeak this in hunger for bread, not in thirst for revenge.\\n\\nsecond citizen:\\nwould you proceed especially against caius marcius?\\n\\nall:\\nagainst him first: he's a very dog to the commonalty.\\n\\nsecond citizen:\\nconsider you what services he has done for his country?\\n\\nfirst citizen:\\nvery well; and could be content to give him good\\nreport fort, but that he pays himself with being proud.\\n\\nsecond citizen:\\nnay, but speak not maliciously.\\n\\nfirst citizen:\\ni say unto you, what he hath done famously, he did\\nit to that end: though soft-conscienced men can be\\ncontent to say it was for his country he did it to\\nplease his mother and to be partly proud; which he\\nis, even till the altitude of his virtue.\\n\\nsecond citizen:\\nwhat he cannot help in his nature, you account a\\nvice in him. you must in no way say he is covetous.\\n\\nfirst citizen:\\nif i must not, i need not be barren of accusations;\\nhe hath faults, with surplus, to tire in repetition.\\nwhat shouts are these? the other side o' the city\\nis risen: why stay we prating here? to the capitol!\\n\\nall:\\ncome, come.\\n\\nfirst citizen:\\nsoft! who comes here?\\n\\nsecond citizen:\\nworthy menenius agrippa; one that hath always loved\\nthe people.\\n\\nfirst citizen:\\nhe's one honest enough: would all the rest were so!\\n\\nmenenius:\\nwhat work's, my countrymen, in hand? where go you\\nwith bats and clubs? the matter? speak, i pray you.\\n\\nfirst citizen:\\nour business is not unknown to the senate; they have\\nhad inkling this fortnight what we intend to do,\\nwhich now we'll show 'em in deeds. they say poor\\nsuitors have strong breaths: they shall know we\\nhave strong arms too.\\n\\nmenenius:\\nwhy, masters, my good friends, mine honest neighbours,\\nwill you undo yourselves?\\n\\nfirst citizen:\\nwe cannot, sir, we are undone already.\\n\\nmenenius:\\ni tell you, friends, most charitable care\\nhave the patricians of you. for your wants,\\nyour suffering in this dearth, you may as well\\nstrike at the heaven with your staves as lift them\\nagainst the roman state, whose course will on\\nthe way it takes, cracking ten thousand curbs\\nof more strong link asunder than can ever\\nappear in your impediment. for the dearth,\\nthe gods, not the patricians, make it, and\\nyour knees to them, not arms, must help. alack,\\nyou are transported by calamity\\nthither where more attends you, and you slander\\nthe helms o' the state, who care for you like fathers,\\nwhen you curse them as enemies.\\n\\nfirst citizen:\\ncare for us! true, indeed! they ne'er cared for us\\nyet: suffer us to famish, and their store-houses\\ncrammed with grain; make edicts for usury, to\\nsupport usurers; repeal daily any wholesome act\\nestablished against the rich, and provide more\\npiercing statutes daily, to chain up and restrain\\nthe poor. if the wars eat us not up, they will; and\\nthere's all the love they bear us.\\n\\nmenenius:\\neither you must\\nconfess yourselves wondrous malicious,\\nor be accused of folly. i shall tell you\\na pretty tale: it may be you have heard it;\\nbut, since it serves my purpose, i will venture\\nto stale 't a little more.\\n\\nfirst citizen:\\nwell, i'll hear it, sir: yet you must not think to\\nfob off our disgrace with a tale: but, an 't please\\nyou, deliver.\\n\\nmenenius:\\nthere was a time when all the body's members\\nrebell'd against the belly, thus accused it:\\nthat only like a gulf it did remain\\ni' the midst o' the body, idle and unactive,\\nstill cupboarding the viand, never bearing\\nlike labour with the rest, where the other instruments\\ndid see and hear, devise, instruct, walk, feel,\\nand, mutually participate, did minister\\nunto the appetite and affection common\\nof the whole body. the belly answer'd--\\n\\nfirst citizen:\\nwell, sir, what answer made the belly?\\n\\nmenenius:\\nsir, i shall tell you. with a kind of smile,\\nwhich ne'er came from the lungs, but even thus--\\nfor, look you, i may make the belly smile\\nas well as speak--it tauntingly replied\\nto the discontented members, the mutinous parts\\nthat envied his receipt; even so most fitly\\nas you malign our senators for that\\nthey are not such as you.\\n\\nfirst citizen:\\nyour belly's answer? what!\\nthe kingly-crowned head, the vigilant eye,\\nthe counsellor heart, the arm our soldier,\\nour steed the leg, the tongue our trumpeter.\\nwith other muniments and petty helps\\nin this our fabric, if that they--\\n\\nmenenius:\\nwhat then?\\n'fore me, this fellow speaks! what then? what then?\\n\\nfirst citizen:\\nshould by the cormorant belly be restrain'd,\\nwho is the sink o' the body,--\\n\\nmenenius:\\nwell, what then?\\n\\nfirst citizen:\\nthe former agents, if they did complain,\\nwhat could the belly answer?\\n\\nmenenius:\\ni will tell you\\nif you'll bestow a small--of what you have little--\\npatience awhile, you'll hear the belly's answer.\\n\\nfirst citizen:\\nye're long about it.\\n\\nmenenius:\\nnote me this, good friend;\\nyour most grave belly was deliberate,\\nnot rash like his accusers, and thus answer'd:\\n'true is it, my incorporate friends,' quoth he,\\n'that i receive the general food at first,\\nwhich you do live upon; and fit it is,\\nbecause i am the store-house and the shop\\nof the whole body: but, if you do remember,\\ni send it through the rivers of your blood,\\neven to the court, the heart, to the seat o' the brain;\\nand, through the cranks and offices of man,\\nthe strongest nerves and small inferior veins\\nfrom me receive that natural competency\\nwhereby they live: and though that all at once,\\nyou, my good friends,'--this says the belly, mark me,--\\n\\nfirst citizen:\\nay, sir; well, well.\\n\\nmenenius:\\n'though all at once cannot\\nsee what i do deliver out to each,\\nyet i can make my audit up, that all\\nfrom me do back receive the flour of all,\\nand leave me but the bran.' what say you to't?\\n\\nfirst citizen:\\nit was an answer: how apply you this?\\n\\nmenenius:\\nthe senators of rome are this good belly,\\nand you the mutinous members; for examine\\ntheir counsels and their cares, digest things rightly\\ntouching the weal o' the common, you shall find\\nno public benefit which you receive\\nbut it proceeds or comes from them to you\\nand no way from yourselves. what do you think,\\nyou, the great toe of this assembly?\\n\\nfirst citizen:\\ni the great toe! why the great toe?\\n\\nmenenius:\\nfor that, being one o' the lowest, basest, poorest,\\nof this most wise rebellion, thou go'st foremost:\\nthou rascal, that art worst in blood to run,\\nlead'st first to win some vantage.\\nbut make you ready your stiff bats and clubs:\\nrome and her rats are at the point of battle;\\nthe one side must have bale.\\nhail, noble marcius!\\n\\nmarcius:\\nthanks. what's the matter, you dissentious rogues,\\nthat, rubbing the poor itch of your opinion,\\nmake yourselves scabs?\\n\\nfirst citizen:\\nwe have ever your good word.\\n\\nmarcius:\\nhe that will give good words to thee will flatter\\nbeneath abhorring. what would you have, you curs,\\nthat like nor peace nor war? the one affrights you,\\nthe other makes you proud. he that trusts to you,\\nwhere he should find you lions, finds you hares;\\nwhere foxes, geese: you are no surer, no,\\nthan is the coal of fire upon the ice,\\nor hailstone in the sun. your virtue is\\nto make him worthy whose offence subdues him\\nand curse that justice did it.\\nwho deserves greatness\\ndeserves your hate; and your affections are\\na sick man's appetite, who desires most that\\nwhich would increase his evil. he that depends\\nupon your favours swims with fins of lead\\nand hews down oaks with rushes. hang ye! trust ye?\\nwith every minute you do change a mind,\\nand call him noble that was now your hate,\\nhim vile that was your garland. what's the matter,\\nthat in these several places of the city\\nyou cry against the noble senate, who,\\nunder the gods, keep you in awe, which else\\nwould feed on one another? what's their seeking?\\n\\nmenenius:\\nfor corn at their own rates; whereof, they say,\\nthe city is well stored.\\n\\nmarcius:\\nhang 'em! they say!\\nthey'll sit by the fire, and presume to know\\nwhat's done i' the capitol; who's like to rise,\\nwho thrives and who declines; side factions\\nand give out\\nconjectural marriages; making parties strong\\nand feebling such as stand not in their liking\\nbelow their cobbled shoes. they say there's\\ngrain enough!\\nwould the nobility lay aside their ruth,\\nand let me use my sword, i'll make a quarry\\nwith thousands of these quarter'd slaves, as high\\nas i could pick my lance.\\n\\nmenenius:\\nnay, these are almost thoroughly persuaded;\\nfor though abundantly they lack discretion,\\nyet are they passing cowardly. but, i beseech you,\\nwhat says the other troop?\\n\\nmarcius:\\nthey are dissolved: hang 'em!\\nthey said they were an-hungry; sigh'd forth proverbs,\\nthat hunger broke stone walls, that dogs must eat,\\nthat meat was made for mouths, that the gods sent not\\ncorn for the rich men only: with these shreds\\nthey vented their complainings; which being answer'd,\\nand a petition granted them, a strange one--\\nto break the heart of generosity,\\nand make bold power look pale--they threw their caps\\nas they would hang them on the horns o' the moon,\\nshouting their emulation.\\n\\nmenenius:\\nwhat is granted them?\\n\\nmarcius:\\nfive tribunes to defend their vulgar wisdoms,\\nof their own choice: one's junius brutus,\\nsicinius velutus, and i know not--'sdeath!\\nthe rabble should have first unroof'd the city,\\nere so prevail'd with me: \""
      ]
     },
     "execution_count": 6,
     "metadata": {},
     "output_type": "execute_result"
    }
   ],
   "source": [
    "text[:10000]"
   ]
  },
  {
   "cell_type": "code",
   "execution_count": 19,
   "id": "acb17888-35a7-4ba7-87ea-573653cc844a",
   "metadata": {},
   "outputs": [],
   "source": [
    "# getting all the individual text in text\n",
    "characters = sorted(set(text))"
   ]
  },
  {
   "cell_type": "code",
   "execution_count": 20,
   "id": "d0f0ffb8-6981-4f08-a1d6-ba69080bc69a",
   "metadata": {},
   "outputs": [
    {
     "data": {
      "text/plain": [
       "['\\n',\n",
       " ' ',\n",
       " '!',\n",
       " '$',\n",
       " '&',\n",
       " \"'\",\n",
       " ',',\n",
       " '-',\n",
       " '.',\n",
       " '3',\n",
       " ':',\n",
       " ';',\n",
       " '?',\n",
       " 'a',\n",
       " 'b',\n",
       " 'c',\n",
       " 'd',\n",
       " 'e',\n",
       " 'f',\n",
       " 'g',\n",
       " 'h',\n",
       " 'i',\n",
       " 'j',\n",
       " 'k',\n",
       " 'l',\n",
       " 'm',\n",
       " 'n',\n",
       " 'o',\n",
       " 'p',\n",
       " 'q',\n",
       " 'r',\n",
       " 's',\n",
       " 't',\n",
       " 'u',\n",
       " 'v',\n",
       " 'w',\n",
       " 'x',\n",
       " 'y',\n",
       " 'z']"
      ]
     },
     "execution_count": 20,
     "metadata": {},
     "output_type": "execute_result"
    }
   ],
   "source": [
    "characters"
   ]
  },
  {
   "cell_type": "code",
   "execution_count": 63,
   "id": "4f80b9cd-9586-44e2-a555-3fc274b76091",
   "metadata": {},
   "outputs": [],
   "source": [
    "# we need an dictionary so that we can convert associate a numeric value with a character\n",
    "\n",
    "index_to_char = dict((char, index) for char, index in enumerate(characters))"
   ]
  },
  {
   "cell_type": "code",
   "execution_count": 40,
   "id": "69a228a3-66bb-402c-8449-e0f55a21a351",
   "metadata": {},
   "outputs": [
    {
     "data": {
      "text/plain": [
       "{0: '\\n',\n",
       " 1: ' ',\n",
       " 2: '!',\n",
       " 3: '$',\n",
       " 4: '&',\n",
       " 5: \"'\",\n",
       " 6: ',',\n",
       " 7: '-',\n",
       " 8: '.',\n",
       " 9: '3',\n",
       " 10: ':',\n",
       " 11: ';',\n",
       " 12: '?',\n",
       " 13: 'a',\n",
       " 14: 'b',\n",
       " 15: 'c',\n",
       " 16: 'd',\n",
       " 17: 'e',\n",
       " 18: 'f',\n",
       " 19: 'g',\n",
       " 20: 'h',\n",
       " 21: 'i',\n",
       " 22: 'j',\n",
       " 23: 'k',\n",
       " 24: 'l',\n",
       " 25: 'm',\n",
       " 26: 'n',\n",
       " 27: 'o',\n",
       " 28: 'p',\n",
       " 29: 'q',\n",
       " 30: 'r',\n",
       " 31: 's',\n",
       " 32: 't',\n",
       " 33: 'u',\n",
       " 34: 'v',\n",
       " 35: 'w',\n",
       " 36: 'x',\n",
       " 37: 'y',\n",
       " 38: 'z'}"
      ]
     },
     "execution_count": 40,
     "metadata": {},
     "output_type": "execute_result"
    }
   ],
   "source": [
    "index_to_char"
   ]
  },
  {
   "cell_type": "code",
   "execution_count": 62,
   "id": "cc112b0c-775c-4b2f-99bb-2be5db0147c5",
   "metadata": {},
   "outputs": [],
   "source": [
    "# we need a dictionary to convert back the values of characters to the respective index \n",
    "\n",
    "char_to_index = dict((index, char) for char, index in enumerate(characters))"
   ]
  },
  {
   "cell_type": "code",
   "execution_count": 42,
   "id": "dde2d406-b233-4d9e-8aad-13068e920d61",
   "metadata": {},
   "outputs": [
    {
     "data": {
      "text/plain": [
       "{'\\n': 0,\n",
       " ' ': 1,\n",
       " '!': 2,\n",
       " '$': 3,\n",
       " '&': 4,\n",
       " \"'\": 5,\n",
       " ',': 6,\n",
       " '-': 7,\n",
       " '.': 8,\n",
       " '3': 9,\n",
       " ':': 10,\n",
       " ';': 11,\n",
       " '?': 12,\n",
       " 'a': 13,\n",
       " 'b': 14,\n",
       " 'c': 15,\n",
       " 'd': 16,\n",
       " 'e': 17,\n",
       " 'f': 18,\n",
       " 'g': 19,\n",
       " 'h': 20,\n",
       " 'i': 21,\n",
       " 'j': 22,\n",
       " 'k': 23,\n",
       " 'l': 24,\n",
       " 'm': 25,\n",
       " 'n': 26,\n",
       " 'o': 27,\n",
       " 'p': 28,\n",
       " 'q': 29,\n",
       " 'r': 30,\n",
       " 's': 31,\n",
       " 't': 32,\n",
       " 'u': 33,\n",
       " 'v': 34,\n",
       " 'w': 35,\n",
       " 'x': 36,\n",
       " 'y': 37,\n",
       " 'z': 38}"
      ]
     },
     "execution_count": 42,
     "metadata": {},
     "output_type": "execute_result"
    }
   ],
   "source": [
    "char_to_index"
   ]
  },
  {
   "cell_type": "markdown",
   "id": "77bd7138-d563-4d25-b726-ac61ee99bbf3",
   "metadata": {},
   "source": [
    "## Next Character Prediction \n",
    "\n",
    "Our main goal is to feed our neural network with all the characters above in the dataset and then we want our neural network to predict the next character according to the shakespear texts. Now, we need to specify how many of our characters we want our neural network to look into before predicting the next character.\n",
    "\n",
    "We need to decide two things : Sequence Length and step size. Sequence length is the amount of characters our neural network looks before predicting next character, and step size and how many characters we move before we consider it another sequence. "
   ]
  },
  {
   "cell_type": "code",
   "execution_count": 28,
   "id": "41ece1ad-fe43-44d3-9842-f6a8dedb3613",
   "metadata": {},
   "outputs": [],
   "source": [
    "SEQ_LENGTH = 50\n",
    "STEP_SIZE = 3"
   ]
  },
  {
   "cell_type": "code",
   "execution_count": 30,
   "id": "b16674bf-af4d-414a-b629-3d4449099d5a",
   "metadata": {},
   "outputs": [],
   "source": [
    "sentences = [] # We store sequences of seq_length in this \n",
    "next_characters = [] # the corresponding next characters to the sequences is stored here"
   ]
  },
  {
   "cell_type": "code",
   "execution_count": 32,
   "id": "e79ad1ea-d7db-459f-a6fb-6499979ed184",
   "metadata": {},
   "outputs": [],
   "source": [
    "for i in range(0, len(text) - SEQ_LENGTH, STEP_SIZE):\n",
    "    sentences.append(text[i : i + SEQ_LENGTH])\n",
    "    next_characters.append(text[i+SEQ_LENGTH])"
   ]
  },
  {
   "cell_type": "markdown",
   "id": "05aa5a44-1951-4ed8-87e2-023b874a19a2",
   "metadata": {},
   "source": [
    "### Conversion of training data from string to numeric values\n",
    "\n",
    "For input values, we need an array which has all the sentences, and inside it, we need all the characters, and then, we need a way to uniquely identify the character. So, we make a 3-dimensional boolean array to acheive this.\n",
    "\n",
    "For output values, we need an array with all the sentences, and the next actual character in the text to the sample sequence. We do that by using 2-dimensional boolean array."
   ]
  },
  {
   "cell_type": "code",
   "execution_count": 36,
   "id": "211661da-68ea-4502-a88b-328eea131ddd",
   "metadata": {},
   "outputs": [],
   "source": [
    "x = np.zeros((len(sentences), SEQ_LENGTH, len(characters)), dtype = bool)\n",
    "y = np.zeros((len(sentences), len(characters)), dtype = bool)"
   ]
  },
  {
   "cell_type": "code",
   "execution_count": 43,
   "id": "4886b261-f5ab-44fe-a9ed-0afa699b5d95",
   "metadata": {},
   "outputs": [],
   "source": [
    "for i, sentence in enumerate(sentences):\n",
    "    for t, character in enumerate(sentence):\n",
    "        x[i, t, char_to_index[character]] = True\n",
    "    y[i, char_to_index[next_characters[i]]] = True"
   ]
  },
  {
   "cell_type": "markdown",
   "id": "ee6d37b8-bebf-4c56-af7a-c8cea0c5f0e4",
   "metadata": {},
   "source": [
    "## Neural Network\n",
    "\n",
    "We will use a simple model with LSTM as the starting layer, followed by a dense layer with softmax function in order to predict the next character."
   ]
  },
  {
   "cell_type": "code",
   "execution_count": 46,
   "id": "c2cfbbe7-aed1-481f-820a-c4ef55e34add",
   "metadata": {},
   "outputs": [
    {
     "name": "stdout",
     "output_type": "stream",
     "text": [
      "Model: \"sequential_2\"\n",
      "_________________________________________________________________\n",
      " Layer (type)                Output Shape              Param #   \n",
      "=================================================================\n",
      " lstm_1 (LSTM)               (None, 128)               86016     \n",
      "                                                                 \n",
      " dense_1 (Dense)             (None, 39)                5031      \n",
      "                                                                 \n",
      " activation (Activation)     (None, 39)                0         \n",
      "                                                                 \n",
      "=================================================================\n",
      "Total params: 91047 (355.65 KB)\n",
      "Trainable params: 91047 (355.65 KB)\n",
      "Non-trainable params: 0 (0.00 Byte)\n",
      "_________________________________________________________________\n"
     ]
    }
   ],
   "source": [
    "model = Sequential()\n",
    "model.add(LSTM(128, input_shape = (SEQ_LENGTH, len(characters))))\n",
    "model.add(Dense(len(characters)))\n",
    "model.add(Activation('softmax'))\n",
    "model.summary()"
   ]
  },
  {
   "cell_type": "code",
   "execution_count": 49,
   "id": "09bfd168-d842-4f95-8223-777fdcff800b",
   "metadata": {},
   "outputs": [],
   "source": [
    "# Using Legacy RMSprop as it works better on M1/M2 Macbooks, otherwise normal will do it not problem\n",
    "model.compile(loss = 'categorical_crossentropy', optimizer = tf.keras.optimizers.legacy.RMSprop(learning_rate = 0.01))"
   ]
  },
  {
   "cell_type": "code",
   "execution_count": 50,
   "id": "819077e4-16f3-4919-9558-5438bea062c7",
   "metadata": {},
   "outputs": [
    {
     "name": "stdout",
     "output_type": "stream",
     "text": [
      "Epoch 1/10\n"
     ]
    },
    {
     "name": "stderr",
     "output_type": "stream",
     "text": [
      "2023-09-01 15:25:59.708767: I tensorflow/core/grappler/optimizers/custom_graph_optimizer_registry.cc:114] Plugin optimizer for device_type GPU is enabled.\n",
      "2023-09-01 15:25:59.861646: I tensorflow/core/grappler/optimizers/custom_graph_optimizer_registry.cc:114] Plugin optimizer for device_type GPU is enabled.\n",
      "2023-09-01 15:26:00.496070: I tensorflow/core/grappler/optimizers/custom_graph_optimizer_registry.cc:114] Plugin optimizer for device_type GPU is enabled.\n"
     ]
    },
    {
     "name": "stdout",
     "output_type": "stream",
     "text": [
      "1453/1453 [==============================] - 31s 20ms/step - loss: 1.8944\n",
      "Epoch 2/10\n",
      "1453/1453 [==============================] - 29s 20ms/step - loss: 1.5675\n",
      "Epoch 3/10\n",
      "1453/1453 [==============================] - 29s 20ms/step - loss: 1.4949\n",
      "Epoch 4/10\n",
      "1453/1453 [==============================] - 29s 20ms/step - loss: 1.4568\n",
      "Epoch 5/10\n",
      "1453/1453 [==============================] - 29s 20ms/step - loss: 1.4314\n",
      "Epoch 6/10\n",
      "1453/1453 [==============================] - 29s 20ms/step - loss: 1.4151\n",
      "Epoch 7/10\n",
      "1453/1453 [==============================] - 28s 20ms/step - loss: 1.4008\n",
      "Epoch 8/10\n",
      "1453/1453 [==============================] - 29s 20ms/step - loss: 1.3911\n",
      "Epoch 9/10\n",
      "1453/1453 [==============================] - 28s 19ms/step - loss: 1.3826\n",
      "Epoch 10/10\n",
      "1453/1453 [==============================] - 28s 19ms/step - loss: 1.3759\n"
     ]
    },
    {
     "data": {
      "text/plain": [
       "<keras.src.callbacks.History at 0x29f71fb50>"
      ]
     },
     "execution_count": 50,
     "metadata": {},
     "output_type": "execute_result"
    }
   ],
   "source": [
    "model.fit(x, y, batch_size = 256, epochs = 10)"
   ]
  },
  {
   "cell_type": "code",
   "execution_count": 51,
   "id": "95f7493e-d4d0-40bb-aa1d-ebfa82c64f45",
   "metadata": {},
   "outputs": [
    {
     "name": "stdout",
     "output_type": "stream",
     "text": [
      "INFO:tensorflow:Assets written to: shakespearTextGenerator.model/assets\n"
     ]
    },
    {
     "name": "stderr",
     "output_type": "stream",
     "text": [
      "INFO:tensorflow:Assets written to: shakespearTextGenerator.model/assets\n"
     ]
    }
   ],
   "source": [
    "model.save('shakespearTextGenerator.model')"
   ]
  },
  {
   "cell_type": "markdown",
   "id": "3c44d629-6fcd-4612-8af4-56c09d6a427d",
   "metadata": {},
   "source": [
    "## Generating Sonnets\n",
    "\n",
    "From our model, we will get a softmax return with probability of the next character from list of all characters. We need to use this to create actual samples of text. So, we take a sample text from our dataset, then, we use that text to predict the next value of our model. We use something called temprature in order to access the risk associated with the word we are going to choose. The more the temprature, the more the risk of choosing the incorrect character. We do that with the following two functions, and generate text like shakespear."
   ]
  },
  {
   "cell_type": "code",
   "execution_count": 52,
   "id": "f88a0fb8-bcfd-46da-a4de-ba4767db76a8",
   "metadata": {},
   "outputs": [],
   "source": [
    "def sample(preds, temprature = 1.0):\n",
    "    preds = np.asarray(preds).astype('float64')\n",
    "    preds = np.log(preds) / temprature\n",
    "    exp_preds = np.exp(preds)\n",
    "    preds = exp_preds / np.sum(exp_preds)\n",
    "    probas = np.random.multinomial(1, preds, 1)\n",
    "    return np.argmax(probas)"
   ]
  },
  {
   "cell_type": "code",
   "execution_count": 56,
   "id": "a817d355-59a2-4869-9c6a-1d13312eb255",
   "metadata": {},
   "outputs": [],
   "source": [
    "def generate_text(length, temprature):\n",
    "    start_index = random.randint(0, len(text) - SEQ_LENGTH - 1)\n",
    "    generated_text = ''\n",
    "    sentence = text[start_index : start_index + SEQ_LENGTH]\n",
    "    generated_text += sentence\n",
    "    for i in range(length):\n",
    "        x = np.zeros((1, SEQ_LENGTH, len(characters)))\n",
    "        for t, character in enumerate(sentence):\n",
    "            x[0, t, char_to_index[character]] = 1\n",
    "\n",
    "        predictions = model.predict(x, verbose = 0)[0]\n",
    "        next_index = sample(predictions, temprature)\n",
    "        generated_text += index_to_char[next_index]\n",
    "        sentence = sentence[1:] + index_to_char[next_index]\n",
    "\n",
    "    return generated_text"
   ]
  },
  {
   "cell_type": "code",
   "execution_count": 57,
   "id": "24e815c8-3311-4f0d-a480-b7bb868fc827",
   "metadata": {},
   "outputs": [
    {
     "name": "stderr",
     "output_type": "stream",
     "text": [
      "2023-09-01 15:59:03.253981: I tensorflow/core/grappler/optimizers/custom_graph_optimizer_registry.cc:114] Plugin optimizer for device_type GPU is enabled.\n",
      "2023-09-01 15:59:03.326180: I tensorflow/core/grappler/optimizers/custom_graph_optimizer_registry.cc:114] Plugin optimizer for device_type GPU is enabled.\n"
     ]
    },
    {
     "data": {
      "text/plain": [
       "'joyful to hear of their readiness, and am the\\nman, and the store of the shall be a lives of him.\\n\\nantonio:\\nthe shall be a lives of the sisters of the world\\nto the world and stand the prince and the men\\nthat is the seasold and soul the prince\\nand the seasoness to be a life,\\nand the sechine and the sunder that is the country\\nand see the state to the mighty state,\\nand the rest of the shall shall be a field\\nto see thy life and the store of the duke\\nand the sun that i will have done the world,\\nand the worst of the world that with me,\\nthat i have not'"
      ]
     },
     "execution_count": 57,
     "metadata": {},
     "output_type": "execute_result"
    }
   ],
   "source": [
    "generate_text(500, 0.2)"
   ]
  },
  {
   "cell_type": "code",
   "execution_count": 58,
   "id": "2ccf121e-6c5d-495c-b5ac-f0ab5bb80541",
   "metadata": {},
   "outputs": [
    {
     "data": {
      "text/plain": [
       "' all our loss again;\\nthe queen from france hath brother than the horse:\\nthe world comes to the sun and have have a\\nfither the gods the countenance and this the death;\\nthat the king of a store, whose hand the prince\\nand which we are the world, and sword henry.\\n\\ngrumio:\\npro?kers have heard thee, he is a brands,\\nto learn the gates and seem the best of the light,\\nthe leor for the sad and store, which the prehender\\nto be man the dead flower man of suffered\\nto and the best of the cause the soul to the face\\nthe gods and done to hear thee, and be hence'"
      ]
     },
     "execution_count": 58,
     "metadata": {},
     "output_type": "execute_result"
    }
   ],
   "source": [
    "generate_text(500, 0.4)"
   ]
  },
  {
   "cell_type": "code",
   "execution_count": 59,
   "id": "82483aef-e494-40e6-ad6d-3a91d205756f",
   "metadata": {},
   "outputs": [
    {
     "data": {
      "text/plain": [
       "'ave crafted fair!\\n\\ncominius:\\nyou have brought\\na troop the king of the bring and prince\\nthe sin of the heart be the states have to have\\nthe time; if i inted the mercy to lessed\\nthe seemings and his life, in the dead?\\n\\nclaudio:\\nif thee thought my tented a father to the cause\\nto atting strice upon the villain to drift\\nthe very treath, the sist than i thank itself\\nthe for his sish the sister time to the soul of my country\\nas is dead, i will not to thee;\\npetruchio that that have adam me to himself\\nthis is the for his bowbreas the shast to great off\\n'"
      ]
     },
     "execution_count": 59,
     "metadata": {},
     "output_type": "execute_result"
    }
   ],
   "source": [
    "generate_text(500, 0.6)"
   ]
  },
  {
   "cell_type": "code",
   "execution_count": 60,
   "id": "396185a1-38e9-4209-9dc8-0726c58e8514",
   "metadata": {},
   "outputs": [
    {
     "data": {
      "text/plain": [
       "\"ued, are but light to me,\\nmight i but through my pass, that heard thee,\\nwhen whilst his now,\\nand not say, have straugh name,\\nthe call; the suffrcond and sight.\\n\\nmarcius:\\nmy gentleman, my corsins mornast.\\n\\nlord:\\nnow, hart thy derises the court:\\nand thou diss'dial montague,\\nand tender this villain will be a strong.\\nwhat's the hound and tell thee.\\n\\nwarwick:\\ni have done: though henry shrie are.\\n\\nuliblet:\\nsay it not shall be me which here wegge he was\\nthy love live in isable; be such moge\\nshall be walce should his mine and there which grown,\\nand so \""
      ]
     },
     "execution_count": 60,
     "metadata": {},
     "output_type": "execute_result"
    }
   ],
   "source": [
    "generate_text(500, 0.8)"
   ]
  },
  {
   "cell_type": "code",
   "execution_count": 61,
   "id": "adf7651b-6af4-4bcf-95a4-67eedaaac9f6",
   "metadata": {},
   "outputs": [
    {
     "data": {
      "text/plain": [
       "\"you have no cause.\\n\\narchbishop of york:\\nmy gracious liege:\\nwhilst who from cleation of dong to take\\nmy none; if you have full fair as if your joked awely:\\ndone all some laid that my nisemser which duke\\nwith such in feataboly of this commer.\\nwhat, what, fair, beshorg i do wad brother,\\nthis the urpilawidh\\nto this time no magammposs'd, and them peace.\\n\\ncapulet:\\nmadam, have speak age is from thy lord thou\\nart distorm is ear is a liberclainn,\\nthe plust done, and tuntrourle-house, his wall:\\nis patserty, you stoot tendor,\\nyou troophined; and warwick h\""
      ]
     },
     "execution_count": 61,
     "metadata": {},
     "output_type": "execute_result"
    }
   ],
   "source": [
    "generate_text(500, 1)"
   ]
  },
  {
   "cell_type": "markdown",
   "id": "64f6081b-e486-45f4-b7e6-332eb4e277ba",
   "metadata": {},
   "source": [
    "Overall, I think model is a success. Since LLMs are really good at identifying patterns, maybe we could tune an LLM to predict shakespear text like this."
   ]
  }
 ],
 "metadata": {
  "kernelspec": {
   "display_name": "Python 3 (ipykernel)",
   "language": "python",
   "name": "python3"
  },
  "language_info": {
   "codemirror_mode": {
    "name": "ipython",
    "version": 3
   },
   "file_extension": ".py",
   "mimetype": "text/x-python",
   "name": "python",
   "nbconvert_exporter": "python",
   "pygments_lexer": "ipython3",
   "version": "3.8.17"
  }
 },
 "nbformat": 4,
 "nbformat_minor": 5
}
