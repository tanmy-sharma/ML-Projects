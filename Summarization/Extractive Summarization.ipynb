{
 "cells": [
  {
   "cell_type": "markdown",
   "id": "d88a6a22-c932-465d-bab6-19cf3d8b6ebb",
   "metadata": {},
   "source": [
    "# Extractive Summarization - Word /Rankings\n",
    "\n",
    "**Extractive summarization** is a text summarization technique that involves selecting and assembling sentences or phrases directly from the original source text to create a concise summary. Instead of generating new sentences, it extracts the most relevant and important content from the source while preserving the original wording. We shall explore scoing algorithms to do extractive summarization.\n",
    "\n",
    "Scoring algorithms in text summarization assign scores to sentences based on criteria like word frequency, position, and keywords. These scores quantify sentence importance, aiding in content selection for summaries. Centrality-based methods, like PageRank, model sentence relationships in a graph. Statistical methods, like TF-IDF, weigh words' significance. Supervised learning utilizes features such as sentence length and context to predict importance. Hybrid approaches combine multiple indicators for robust scoring. Effective scoring algorithms enhance automated summarization by identifying pivotal content and shaping concise, coherent summaries."
   ]
  },
  {
   "cell_type": "markdown",
   "id": "1c96889a-c1ff-4f8f-a3d8-f66ae00b0429",
   "metadata": {},
   "source": [
    "## Objectives:\n",
    "To explore two ways to do extractive summarization on the same test:\n",
    "     \n",
    "     1. Sentence Scoring Method\n",
    "     2. TF-IDF Approach\n",
    "     3. Get the rouge score"
   ]
  },
  {
   "cell_type": "markdown",
   "id": "94d5a4c3-00df-4681-a4f2-6ae6646d05c4",
   "metadata": {},
   "source": [
    "## Sentence Scoring Method\n",
    "\n",
    "Sentence scores in summarization quantify a sentence's relevance and importance. Calculated using factors like word frequency, position, and semantic meaning, scores help rank sentences for inclusion in summaries. Higher scores indicate greater significance, aiding in content selection and producing concise, informative summaries.\n",
    "\n",
    "**Steps to take**\n",
    "\n",
    "    1. Preparing the data\n",
    "    2. Processing the data\n",
    "    3. Tokenizing the article into sentences\n",
    "    4. Finding the weighted frequencies of the sentences\n",
    "    5. Calculating the threshold of the sentences\n",
    "    6. Getting the summary\n",
    "    7. Evaluation"
   ]
  },
  {
   "cell_type": "markdown",
   "id": "02ddd01d-775d-48e6-8f61-40aea0a1645e",
   "metadata": {},
   "source": [
    "### Preparing the data"
   ]
  },
  {
   "cell_type": "code",
   "execution_count": 1,
   "id": "639d4a8b-1ff8-42e2-a618-555f3b43bedf",
   "metadata": {},
   "outputs": [],
   "source": [
    "sample_text = \"\"\"\n",
    " Maria Sharapova has basically no friends as tennis players on the WTA Tour. The Russian player has no problems in openly speaking about it and in a recent interview she said: 'I don't really hide any feelings too much. \n",
    " I think everyone knows this is my job here. When I'm on the courts or when I'm on the court playing, I'm a competitor and I want to beat every single person whether they're in the locker room or across the net.\n",
    " So I'm not the one to strike up a conversation about the weather and know that in the next few minutes I have to go and try to win a tennis match. \n",
    " I'm a pretty competitive girl. I say my hellos, but I'm not sending any players flowers as well. Uhm, I'm not really friendly or close to many players.\n",
    " I have not a lot of friends away from the courts.' When she said she is not really close to a lot of players, is that something strategic that she is doing? Is it different on the men's tour than the women's tour? 'No, not at all.\n",
    " I think just because you're in the same sport doesn't mean that you have to be friends with everyone just because you're categorized, you're a tennis player, so you're going to get along with tennis players. \n",
    " I think every person has different interests. I have friends that have completely different jobs and interests, and I've met them in very different parts of my life.\n",
    " I think everyone just thinks because we're tennis players we should be the greatest of friends. But ultimately tennis is just a very small part of what we do. \n",
    " There are so many other things that we're interested in, that we do.'\n",
    " \"\"\""
   ]
  },
  {
   "cell_type": "markdown",
   "id": "1c7321d9-cfdf-41ee-bae9-ffcce32eff2e",
   "metadata": {},
   "source": [
    "### Importing Libraries Required"
   ]
  },
  {
   "cell_type": "code",
   "execution_count": 2,
   "id": "5bad29f1-c3c7-49aa-84f6-0f58d837fcf1",
   "metadata": {},
   "outputs": [
    {
     "name": "stderr",
     "output_type": "stream",
     "text": [
      "[nltk_data] Downloading package punkt to\n",
      "[nltk_data]     /Users/tanmaysharma/nltk_data...\n",
      "[nltk_data]   Package punkt is already up-to-date!\n"
     ]
    }
   ],
   "source": [
    "import nltk\n",
    "nltk.download('punkt')\n",
    "from nltk.corpus import stopwords\n",
    "from nltk.tokenize import sent_tokenize, word_tokenize\n",
    "# sent_tokenize is used for splitting text into sentences\n",
    "# word_tokenize is used for splitting sentences into individual words\n",
    "\n",
    "from collections import Counter # to maintain the counter for each sentence"
   ]
  },
  {
   "cell_type": "markdown",
   "id": "5380eee7-c5ea-4b9c-a6c0-907e1dac90c8",
   "metadata": {},
   "source": [
    "### Processing and tokenizing the data"
   ]
  },
  {
   "cell_type": "code",
   "execution_count": 3,
   "id": "89b123cd-5d7d-4251-9bcd-52bed6077504",
   "metadata": {},
   "outputs": [
    {
     "name": "stderr",
     "output_type": "stream",
     "text": [
      "[nltk_data] Downloading package stopwords to\n",
      "[nltk_data]     /Users/tanmaysharma/nltk_data...\n",
      "[nltk_data]   Package stopwords is already up-to-date!\n"
     ]
    }
   ],
   "source": [
    "# tokenization\n",
    "sentences = sent_tokenize(sample_text)\n",
    "\n",
    "# removing stop words\n",
    "nltk.download('stopwords')\n",
    "stop_words = set(stopwords.words('english'))\n",
    "# tokenizing each word from sample text and removing stop words and lowering down the case\n",
    "words = [word.lower() for word in word_tokenize(sample_text) if word.lower() not in stop_words and word.isalnum()]\n",
    "\n",
    "# frequency for each individual word\n",
    "word_freq = Counter(words)"
   ]
  },
  {
   "cell_type": "code",
   "execution_count": 4,
   "id": "353fda34-4424-4db1-852e-cb4b274e634c",
   "metadata": {},
   "outputs": [
    {
     "data": {
      "text/plain": [
       "6"
      ]
     },
     "execution_count": 4,
     "metadata": {},
     "output_type": "execute_result"
    }
   ],
   "source": [
    "max_frequency = Counter.most_common(word_freq)[0][1]\n",
    "max_frequency"
   ]
  },
  {
   "cell_type": "markdown",
   "id": "92086e84-efa3-47e9-a9d5-9eaac9b4944d",
   "metadata": {},
   "source": [
    "### Calculating Weighted Frequency"
   ]
  },
  {
   "cell_type": "code",
   "execution_count": 5,
   "id": "01511072-66d2-42b4-8dec-955f502506f2",
   "metadata": {},
   "outputs": [],
   "source": [
    "for freq in word_freq:\n",
    "    word_freq[freq] /= max_frequency"
   ]
  },
  {
   "cell_type": "code",
   "execution_count": 6,
   "id": "3f721934-be59-4427-a419-62b3cc631a9b",
   "metadata": {},
   "outputs": [
    {
     "data": {
      "text/plain": [
       "Counter({'maria': 0.16666666666666666,\n",
       "         'sharapova': 0.16666666666666666,\n",
       "         'basically': 0.16666666666666666,\n",
       "         'friends': 0.8333333333333334,\n",
       "         'tennis': 1.0,\n",
       "         'players': 1.0,\n",
       "         'wta': 0.16666666666666666,\n",
       "         'tour': 0.5,\n",
       "         'russian': 0.16666666666666666,\n",
       "         'player': 0.3333333333333333,\n",
       "         'problems': 0.16666666666666666,\n",
       "         'openly': 0.16666666666666666,\n",
       "         'speaking': 0.16666666666666666,\n",
       "         'recent': 0.16666666666666666,\n",
       "         'interview': 0.16666666666666666,\n",
       "         'said': 0.3333333333333333,\n",
       "         'really': 0.5,\n",
       "         'hide': 0.16666666666666666,\n",
       "         'feelings': 0.16666666666666666,\n",
       "         'much': 0.16666666666666666,\n",
       "         'think': 0.6666666666666666,\n",
       "         'everyone': 0.5,\n",
       "         'knows': 0.16666666666666666,\n",
       "         'job': 0.16666666666666666,\n",
       "         'courts': 0.3333333333333333,\n",
       "         'court': 0.16666666666666666,\n",
       "         'playing': 0.16666666666666666,\n",
       "         'competitor': 0.16666666666666666,\n",
       "         'want': 0.16666666666666666,\n",
       "         'beat': 0.16666666666666666,\n",
       "         'every': 0.3333333333333333,\n",
       "         'single': 0.16666666666666666,\n",
       "         'person': 0.3333333333333333,\n",
       "         'whether': 0.16666666666666666,\n",
       "         'locker': 0.16666666666666666,\n",
       "         'room': 0.16666666666666666,\n",
       "         'across': 0.16666666666666666,\n",
       "         'net': 0.16666666666666666,\n",
       "         'one': 0.16666666666666666,\n",
       "         'strike': 0.16666666666666666,\n",
       "         'conversation': 0.16666666666666666,\n",
       "         'weather': 0.16666666666666666,\n",
       "         'know': 0.16666666666666666,\n",
       "         'next': 0.16666666666666666,\n",
       "         'minutes': 0.16666666666666666,\n",
       "         'go': 0.16666666666666666,\n",
       "         'try': 0.16666666666666666,\n",
       "         'win': 0.16666666666666666,\n",
       "         'match': 0.16666666666666666,\n",
       "         'pretty': 0.16666666666666666,\n",
       "         'competitive': 0.16666666666666666,\n",
       "         'girl': 0.16666666666666666,\n",
       "         'say': 0.16666666666666666,\n",
       "         'hellos': 0.16666666666666666,\n",
       "         'sending': 0.16666666666666666,\n",
       "         'flowers': 0.16666666666666666,\n",
       "         'well': 0.16666666666666666,\n",
       "         'uhm': 0.16666666666666666,\n",
       "         'friendly': 0.16666666666666666,\n",
       "         'close': 0.3333333333333333,\n",
       "         'many': 0.3333333333333333,\n",
       "         'lot': 0.3333333333333333,\n",
       "         'away': 0.16666666666666666,\n",
       "         'something': 0.16666666666666666,\n",
       "         'strategic': 0.16666666666666666,\n",
       "         'different': 0.6666666666666666,\n",
       "         'men': 0.16666666666666666,\n",
       "         'women': 0.16666666666666666,\n",
       "         'sport': 0.16666666666666666,\n",
       "         'mean': 0.16666666666666666,\n",
       "         'categorized': 0.16666666666666666,\n",
       "         'going': 0.16666666666666666,\n",
       "         'get': 0.16666666666666666,\n",
       "         'along': 0.16666666666666666,\n",
       "         'interests': 0.3333333333333333,\n",
       "         'completely': 0.16666666666666666,\n",
       "         'jobs': 0.16666666666666666,\n",
       "         'met': 0.16666666666666666,\n",
       "         'parts': 0.16666666666666666,\n",
       "         'life': 0.16666666666666666,\n",
       "         'thinks': 0.16666666666666666,\n",
       "         'greatest': 0.16666666666666666,\n",
       "         'ultimately': 0.16666666666666666,\n",
       "         'small': 0.16666666666666666,\n",
       "         'part': 0.16666666666666666,\n",
       "         'things': 0.16666666666666666,\n",
       "         'interested': 0.16666666666666666})"
      ]
     },
     "execution_count": 6,
     "metadata": {},
     "output_type": "execute_result"
    }
   ],
   "source": [
    "word_freq"
   ]
  },
  {
   "cell_type": "markdown",
   "id": "b6f83caa-7af8-4dcd-b148-aadc93032084",
   "metadata": {},
   "source": [
    "### Sentence Scoring or Sentence threshold calculation"
   ]
  },
  {
   "cell_type": "code",
   "execution_count": 7,
   "id": "c2fd1f8d-cfe3-41e3-aa24-201fa6ab9dba",
   "metadata": {},
   "outputs": [],
   "source": [
    "# dictionary to hold sentence scores\n",
    "sentence_scores = {}\n",
    "\n",
    "# scoring each sentence\n",
    "for sentence in sentences:\n",
    "\n",
    "    # taking each individual word from each sentence and ranking them\n",
    "    word_sentence = [word.lower() for word in word_tokenize(sentence) if word.lower() not in stop_words and word.isalnum()]\n",
    "    # summing individual sentence score\n",
    "    sentence_score = sum([word_freq[word] for word in word_sentence])\n",
    "    # making sure sentences more than 25 words are not in summary\n",
    "    sentence_scores[sentence] = sentence_score"
   ]
  },
  {
   "cell_type": "markdown",
   "id": "60386e6c-6fd3-4c43-a6eb-b2d77744ff1a",
   "metadata": {},
   "source": [
    "### Getting the Summary"
   ]
  },
  {
   "cell_type": "code",
   "execution_count": 8,
   "id": "a851c906-7b4c-4f29-b6e5-3aaa2d578a2d",
   "metadata": {},
   "outputs": [],
   "source": [
    "# selecting the top 5 sentences \n",
    "n = 5\n",
    "summary_sentences = sorted(sentence_scores, key=sentence_scores.get, reverse=True)[:n]\n",
    "summary = ' '.join(summary_sentences)"
   ]
  },
  {
   "cell_type": "code",
   "execution_count": 9,
   "id": "88da4e55-d0d5-4af6-ba3b-013c0babd5af",
   "metadata": {},
   "outputs": [
    {
     "data": {
      "text/plain": [
       "\"I think just because you're in the same sport doesn't mean that you have to be friends with everyone just because you're categorized, you're a tennis player, so you're going to get along with tennis players. I think everyone just thinks because we're tennis players we should be the greatest of friends. \\n Maria Sharapova has basically no friends as tennis players on the WTA Tour. I have friends that have completely different jobs and interests, and I've met them in very different parts of my life. So I'm not the one to strike up a conversation about the weather and know that in the next few minutes I have to go and try to win a tennis match.\""
      ]
     },
     "execution_count": 9,
     "metadata": {},
     "output_type": "execute_result"
    }
   ],
   "source": [
    "summary"
   ]
  },
  {
   "cell_type": "code",
   "execution_count": 10,
   "id": "e59f8662-d75c-4eb4-b34e-4e1b198e2f4c",
   "metadata": {},
   "outputs": [
    {
     "data": {
      "text/plain": [
       "\"\\n Maria Sharapova has basically no friends as tennis players on the WTA Tour. The Russian player has no problems in openly speaking about it and in a recent interview she said: 'I don't really hide any feelings too much. \\n I think everyone knows this is my job here. When I'm on the courts or when I'm on the court playing, I'm a competitor and I want to beat every single person whether they're in the locker room or across the net.\\n So I'm not the one to strike up a conversation about the weather and know that in the next few minutes I have to go and try to win a tennis match. \\n I'm a pretty competitive girl. I say my hellos, but I'm not sending any players flowers as well. Uhm, I'm not really friendly or close to many players.\\n I have not a lot of friends away from the courts.' When she said she is not really close to a lot of players, is that something strategic that she is doing? Is it different on the men's tour than the women's tour? 'No, not at all.\\n I think just because you're in the same sport doesn't mean that you have to be friends with everyone just because you're categorized, you're a tennis player, so you're going to get along with tennis players. \\n I think every person has different interests. I have friends that have completely different jobs and interests, and I've met them in very different parts of my life.\\n I think everyone just thinks because we're tennis players we should be the greatest of friends. But ultimately tennis is just a very small part of what we do. \\n There are so many other things that we're interested in, that we do.'\\n \""
      ]
     },
     "execution_count": 10,
     "metadata": {},
     "output_type": "execute_result"
    }
   ],
   "source": [
    "sample_text"
   ]
  },
  {
   "cell_type": "markdown",
   "id": "187996cb-ec54-4c8a-a540-010c7aa1c73d",
   "metadata": {},
   "source": [
    "### Rouge Score"
   ]
  },
  {
   "cell_type": "code",
   "execution_count": 11,
   "id": "dd1cc12a-7338-4b50-8d04-0c27a227f0da",
   "metadata": {},
   "outputs": [
    {
     "name": "stdout",
     "output_type": "stream",
     "text": [
      "Requirement already satisfied: rouge in /Users/tanmaysharma/tensorflow-test/env/lib/python3.8/site-packages (1.0.1)\n",
      "Requirement already satisfied: six in /Users/tanmaysharma/tensorflow-test/env/lib/python3.8/site-packages (from rouge) (1.16.0)\n"
     ]
    }
   ],
   "source": [
    "!pip install rouge"
   ]
  },
  {
   "cell_type": "code",
   "execution_count": 12,
   "id": "c4d6680b-c49e-47d8-b7c4-ad2b6d9cb9be",
   "metadata": {},
   "outputs": [
    {
     "data": {
      "text/plain": [
       "0.626086952220794"
      ]
     },
     "execution_count": 12,
     "metadata": {},
     "output_type": "execute_result"
    }
   ],
   "source": [
    "from rouge import Rouge\n",
    "\n",
    "rouge = Rouge()\n",
    "scores = rouge.get_scores(sample_text, summary)\n",
    "scores[0]['rouge-1']['f']"
   ]
  },
  {
   "cell_type": "code",
   "execution_count": 13,
   "id": "3bc6cad1-11c0-4502-99cc-5998404aa442",
   "metadata": {},
   "outputs": [
    {
     "data": {
      "text/plain": [
       "[{'rouge-1': {'r': 1.0, 'p': 0.45569620253164556, 'f': 0.626086952220794},\n",
       "  'rouge-2': {'r': 0.9719626168224299,\n",
       "   'p': 0.3939393939393939,\n",
       "   'f': 0.5606468961649509},\n",
       "  'rouge-l': {'r': 1.0, 'p': 0.45569620253164556, 'f': 0.626086952220794}}]"
      ]
     },
     "execution_count": 13,
     "metadata": {},
     "output_type": "execute_result"
    }
   ],
   "source": [
    "scores"
   ]
  },
  {
   "cell_type": "markdown",
   "id": "472a40cf-2660-45d4-bb25-0cc750d41974",
   "metadata": {},
   "source": [
    "## TF-IDF Approach:\n",
    "\n",
    "TF-IDF (Term Frequency-Inverse Document Frequency) is a text analysis technique. It evaluates word importance within a document relative to its occurrence in a corpus. It measures how often a word appears in a document (TF) but is offset by its rarity across the corpus (IDF). High TF-IDF scores identify words specific to a document, often conveying its main theme.\n",
    "\n",
    "**Steps to follow**\n",
    "\n",
    "    1. Tokenize all the sentences\n",
    "    2. Create a TF-IDF matrix\n",
    "    3. Use cosine similarity to get the relation between document and individual sentences.\n",
    "    4. Rank the sentences.\n",
    "    5. Get the summary.\n",
    "    6. Evaluation."
   ]
  },
  {
   "cell_type": "markdown",
   "id": "006bbf43-e7af-4e39-8ab3-effdd687b750",
   "metadata": {},
   "source": [
    "### Importing Dependencies"
   ]
  },
  {
   "cell_type": "code",
   "execution_count": 14,
   "id": "0d2ad6c3-a92a-48fc-b2d7-bd1edce8507e",
   "metadata": {},
   "outputs": [],
   "source": [
    "from sklearn.feature_extraction.text import TfidfVectorizer # converts a collection of raw documents to a matrix of TF-IDF features\n",
    "from sklearn.metrics.pairwise import cosine_similarity # cosine similarity to get similarity between two sentences\n",
    "from heapq import nlargest # to get the top n sentences"
   ]
  },
  {
   "cell_type": "markdown",
   "id": "dcdd5ecd-876f-4621-ac44-53bd227c4192",
   "metadata": {},
   "source": [
    "### Sentence tokenization"
   ]
  },
  {
   "cell_type": "code",
   "execution_count": 15,
   "id": "dd6fa884-5f1e-47cd-a04b-39cd3bb79341",
   "metadata": {},
   "outputs": [],
   "source": [
    "sentences = sent_tokenize(sample_text)"
   ]
  },
  {
   "cell_type": "markdown",
   "id": "44bee075-67cb-4a62-b3e5-a98583f141fb",
   "metadata": {},
   "source": [
    "### Create a TF-IDF matrix"
   ]
  },
  {
   "cell_type": "code",
   "execution_count": 16,
   "id": "df8bee58-2b4b-475b-821a-0dfc53aca114",
   "metadata": {},
   "outputs": [],
   "source": [
    "vectorizer = TfidfVectorizer(stop_words='english')\n",
    "tfidf_matrix = vectorizer.fit_transform(sentences)"
   ]
  },
  {
   "cell_type": "markdown",
   "id": "0f7c4b2e-9552-47db-940a-0e19e80f5b19",
   "metadata": {},
   "source": [
    "### Calculating Cosine Similarity"
   ]
  },
  {
   "cell_type": "code",
   "execution_count": 17,
   "id": "4b80308d-5404-426c-85c5-d615d1b66643",
   "metadata": {},
   "outputs": [],
   "source": [
    "sentence_scores = cosine_similarity(tfidf_matrix[-1], tfidf_matrix[:-1])[0]"
   ]
  },
  {
   "cell_type": "markdown",
   "id": "7dfa8b46-c0c8-4170-b20a-d3c2bf586f09",
   "metadata": {},
   "source": [
    "### Scoring Sentences"
   ]
  },
  {
   "cell_type": "code",
   "execution_count": 18,
   "id": "fa81163b-e015-4660-99f6-218d9e59604c",
   "metadata": {},
   "outputs": [],
   "source": [
    "summary_sentences = nlargest(n, range(len(sentence_scores)), key=sentence_scores.__getitem__)"
   ]
  },
  {
   "cell_type": "markdown",
   "id": "b4697d2b-2e41-46cb-817e-8797a60b8da5",
   "metadata": {},
   "source": [
    "### Summary"
   ]
  },
  {
   "cell_type": "code",
   "execution_count": 19,
   "id": "2e2a6f14-3a15-4d82-9b3a-a6d0430ad3aa",
   "metadata": {},
   "outputs": [
    {
     "data": {
      "text/plain": [
       "\"\\n Maria Sharapova has basically no friends as tennis players on the WTA Tour. The Russian player has no problems in openly speaking about it and in a recent interview she said: 'I don't really hide any feelings too much. I think everyone knows this is my job here. When I'm on the courts or when I'm on the court playing, I'm a competitor and I want to beat every single person whether they're in the locker room or across the net. So I'm not the one to strike up a conversation about the weather and know that in the next few minutes I have to go and try to win a tennis match.\""
      ]
     },
     "execution_count": 19,
     "metadata": {},
     "output_type": "execute_result"
    }
   ],
   "source": [
    "summary_tfidf = ' '.join([sentences[i] for i in sorted(summary_sentences)])\n",
    "summary_tfidf"
   ]
  },
  {
   "cell_type": "markdown",
   "id": "0f9c6711-fb31-461a-967b-06a1513bc4ed",
   "metadata": {},
   "source": [
    "### Rouge Score"
   ]
  },
  {
   "cell_type": "code",
   "execution_count": 20,
   "id": "a131c66d-19dc-456e-8dfa-5d06b6e312e1",
   "metadata": {},
   "outputs": [
    {
     "data": {
      "text/plain": [
       "0.6833333288347222"
      ]
     },
     "execution_count": 20,
     "metadata": {},
     "output_type": "execute_result"
    }
   ],
   "source": [
    "scores = rouge.get_scores(sample_text, summary_tfidf)\n",
    "scores[0]['rouge-1']['f']"
   ]
  },
  {
   "cell_type": "markdown",
   "id": "2937f4fd-cbf9-45b9-a5e2-13a6a1b22d3a",
   "metadata": {},
   "source": [
    "A little better rouge score than sentence scoring, with a differnece of 0.06. But, we just cannot rank sentences inside a paragraph best summarize it as it will always leave some data. To tackle this problem, we will use abstractive text summarization in the next jupyter notebook."
   ]
  }
 ],
 "metadata": {
  "kernelspec": {
   "display_name": "Python 3 (ipykernel)",
   "language": "python",
   "name": "python3"
  },
  "language_info": {
   "codemirror_mode": {
    "name": "ipython",
    "version": 3
   },
   "file_extension": ".py",
   "mimetype": "text/x-python",
   "name": "python",
   "nbconvert_exporter": "python",
   "pygments_lexer": "ipython3",
   "version": "3.8.17"
  }
 },
 "nbformat": 4,
 "nbformat_minor": 5
}
